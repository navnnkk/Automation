{
 "cells": [
  {
   "cell_type": "code",
   "execution_count": null,
   "metadata": {},
   "outputs": [],
   "source": [
    "# -----------------------------------------------------------------\n",
    "# Python code which speaks to get input from user\n",
    "# and gives output by speaking\n",
    "# this technique will be using by me in my automation project\n",
    "# -----------------------------------------------------------------\n",
    "\n",
    "import pyttsx3 as pt      # --> python library used to speak through our laptop speakers"
   ]
  },
  {
   "cell_type": "code",
   "execution_count": null,
   "metadata": {},
   "outputs": [],
   "source": [
    "speaker = pt.init()\n",
    "speaker.say(\"Enter your name\")\n",
    "speaker.runAndWait()\n",
    "name = input()\n",
    "speaker.say(f\"Hello {name}, how are you\")\n",
    "speaker.runAndWait()"
   ]
  },
  {
   "cell_type": "code",
   "execution_count": null,
   "metadata": {},
   "outputs": [],
   "source": [
    "speaker.say(\"press 1 to play baby poems\")\n",
    "speaker.say(\"press 2 to play  A B C\")\n",
    "speaker.say(\"press 3 to play 1 2 3\")\n",
    "speaker.say(\"press 4 to close me\")\n",
    "speaker.runAndWait()"
   ]
  },
  {
   "cell_type": "code",
   "execution_count": null,
   "metadata": {},
   "outputs": [],
   "source": [
    "x = int(input())\n",
    "while True:\n",
    "    if x == 1:\n",
    "        speaker.say(\"Johny Johny Yes Papa Johny, Johny Yes, Papa? Eating sugar? No, papa! Telling lies? No, papa! Open your mouth Ah, ah, ah! Johny, Johny Yes, Papa? Eating sugar? No, papa! Telling lies? No, papa! Open your mouth Ah, ah,… \")\n",
    "        speaker.say(\"Twinkle, twinkle, little star, How we wonder what you are. Up above the world so high, Like a diamond in the sky. When the glorious sun has set, And the grass with dew is wet, Then you show your little light, Twinkle, twinkle, all the night. When the golden sun doth rise, Fills with shining light the skies, Then you fade away from sight, Shine no more 'till comes the night.\")\n",
    "        speaker.runAndWait()\n",
    "    elif x == 2:\n",
    "        speaker.say(\"a,b,c,d,e,f,g,h,i,j,k,l,m,n,o,p,q,r,s,t,u,v,w,x,y,z\")\n",
    "        speaker.runAndWait()\n",
    "    elif x == 3:\n",
    "        speaker.say(\"1,2,3,4,5,6,7,8,9,10,11,12,13,14,15,16,17,18,19,20,21,22,23,24,25,26,27,28,29,30,31,32,33,34,35,36,37,38,39,40,41,42,43,44,45,46,47,48,49,50\")\n",
    "        speaker.runAndWait()\n",
    "    elif x == 4:\n",
    "        speaker.say(\"Bye Bye Friend\")\n",
    "        speaker.runAndWait()\n",
    "        break\n",
    "    else:\n",
    "        speaker.say(\"Friend you pressed wrong key, press 1 to play baby poems, press 2 to play  A B C, press 3 to play 1 2 3\")\n",
    "        speaker.runAndWait()\n",
    "    speaker.say(\"press 1 to play baby poems\")\n",
    "    speaker.say(\"press 2 to play  A B C\")\n",
    "    speaker.say(\"press 3 to play 1 2 3\")\n",
    "    speaker.say(\"press 4 to close me\")\n",
    "    speaker.runAndWait()\n",
    "    x = int(input())"
   ]
  }
 ],
 "metadata": {
  "kernelspec": {
   "display_name": "Python 3",
   "language": "python",
   "name": "python3"
  },
  "language_info": {
   "codemirror_mode": {
    "name": "ipython",
    "version": 3
   },
   "file_extension": ".py",
   "mimetype": "text/x-python",
   "name": "python",
   "nbconvert_exporter": "python",
   "pygments_lexer": "ipython3",
   "version": "3.6.8"
  }
 },
 "nbformat": 4,
 "nbformat_minor": 2
}
